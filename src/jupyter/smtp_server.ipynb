{
 "cells": [
  {
   "cell_type": "code",
   "execution_count": 13,
   "id": "00c1d0d4-9100-4cb0-ad6b-1312c570cfd3",
   "metadata": {},
   "outputs": [
    {
     "name": "stdout",
     "output_type": "stream",
     "text": [
      "邮件发送成功！\n",
      "(-1, b'\\x00\\x00\\x00')\n"
     ]
    }
   ],
   "source": [
    "import smtplib\n",
    "import os\n",
    "from email.mime.text import MIMEText\n",
    "\n",
    "smtp_auth_code = os.getenv('SMTP_AUTH_CODE_QQ')\n",
    "\n",
    "# QQ邮箱SMTP信息\n",
    "smtp_server = \"smtp.qq.com\"\n",
    "port = 465  # SSL端口\n",
    "email_user = \"116586276@qq.com\"\n",
    "email_password = smtp_auth_code  # 授权码\n",
    "\n",
    "# 邮件信息\n",
    "sender_email = email_user\n",
    "receiver_email = \"116586276@qq.com\"\n",
    "subject = \"Hello from QQ Mail\"\n",
    "body = \"This is a test email sent via QQ Mail.\"\n",
    "\n",
    "# 构造邮件内容\n",
    "message = MIMEText(body, \"plain\", \"utf-8\")\n",
    "message[\"From\"] = sender_email\n",
    "message[\"To\"] = receiver_email\n",
    "message[\"Subject\"] = subject\n",
    "\n",
    "try:\n",
    "    with smtplib.SMTP_SSL(smtp_server, port) as server:\n",
    "        server.login(email_user, email_password)\n",
    "        server.sendmail(sender_email, receiver_email, message.as_string())\n",
    "        print(\"邮件发送成功！\")\n",
    "except Exception as e:\n",
    "    print(e)\n"
   ]
  },
  {
   "cell_type": "code",
   "execution_count": 14,
   "id": "e98a8158-e93f-4856-a134-242cfee04814",
   "metadata": {},
   "outputs": [
    {
     "name": "stdout",
     "output_type": "stream",
     "text": [
      "邮件发送成功！\n"
     ]
    }
   ],
   "source": [
    "receiver_email = \"axpzhang@gmail.com\"\n",
    "ins = smtplib.SMTP_SSL(smtp_server, port)\n",
    "ins.login(email_user, email_password)\n",
    "ins.sendmail(sender_email, receiver_email, message.as_string())\n",
    "print(\"邮件发送成功！\")"
   ]
  },
  {
   "cell_type": "code",
   "execution_count": 15,
   "id": "b2de9b85-2136-46c4-8b62-7ec2b0056836",
   "metadata": {},
   "outputs": [
    {
     "name": "stdout",
     "output_type": "stream",
     "text": [
      "邮件发送成功！\n"
     ]
    }
   ],
   "source": [
    "receiver_email = \"axp.zhang@qq.com\"\n",
    "ins = smtplib.SMTP_SSL(smtp_server, port)\n",
    "ins.login(email_user, email_password)\n",
    "ins.sendmail(sender_email, receiver_email, message.as_string())\n",
    "print(\"邮件发送成功！\")"
   ]
  },
  {
   "cell_type": "code",
   "execution_count": 11,
   "id": "418ef268-af05-41ae-bbad-a850b8690437",
   "metadata": {},
   "outputs": [
    {
     "name": "stdout",
     "output_type": "stream",
     "text": [
      "邮件发送成功！\n",
      "(-1, b'\\x00\\x00\\x00')\n"
     ]
    }
   ],
   "source": [
    "try:\n",
    "    with smtplib.SMTP_SSL(smtp_server, port) as server:\n",
    "        server.login(email_user, email_password)\n",
    "        server.sendmail(sender_email, receiver_email, message.as_string())\n",
    "        print(\"邮件发送成功！\")\n",
    "except Exception as e:\n",
    "    print(e)"
   ]
  },
  {
   "cell_type": "code",
   "execution_count": null,
   "id": "dd6be99b-0d5e-4c1f-ac35-1ea5b4d65a2e",
   "metadata": {},
   "outputs": [],
   "source": []
  }
 ],
 "metadata": {
  "kernelspec": {
   "display_name": "Python 3 (ipykernel)",
   "language": "python",
   "name": "python3"
  },
  "language_info": {
   "codemirror_mode": {
    "name": "ipython",
    "version": 3
   },
   "file_extension": ".py",
   "mimetype": "text/x-python",
   "name": "python",
   "nbconvert_exporter": "python",
   "pygments_lexer": "ipython3",
   "version": "3.12.6"
  }
 },
 "nbformat": 4,
 "nbformat_minor": 5
}
