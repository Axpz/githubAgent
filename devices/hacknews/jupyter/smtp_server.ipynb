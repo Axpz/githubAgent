{
 "cells": [
  {
   "cell_type": "code",
   "execution_count": 2,
   "id": "00c1d0d4-9100-4cb0-ad6b-1312c570cfd3",
   "metadata": {},
   "outputs": [
    {
     "name": "stdout",
     "output_type": "stream",
     "text": [
      "邮件发送成功！\n",
      "(-1, b'\\x00\\x00\\x00')\n"
     ]
    }
   ],
   "source": [
    "import smtplib\n",
    "import os\n",
    "from email.mime.text import MIMEText\n",
    "\n",
    "smtp_auth_code = os.getenv('SMTP_AUTH_CODE_QQ')\n",
    "\n",
    "# QQ邮箱SMTP信息\n",
    "smtp_server = \"smtp.qq.com\"\n",
    "port = 465  # SSL端口\n",
    "email_user = \"116586276@qq.com\"\n",
    "email_password = smtp_auth_code  # 授权码\n",
    "\n",
    "# 邮件信息\n",
    "sender_email = email_user\n",
    "to = \"116586276@qq.com;axpzhang@gmail.com;924860626@qq.com\"\n",
    "receiver_email = to.split(';')\n",
    "subject = \"Hello from QQ Mail\"\n",
    "body = \"This is a test email sent via QQ Mail.\"\n",
    "\n",
    "# 构造邮件内容\n",
    "message = MIMEText(body, \"plain\", \"utf-8\")\n",
    "message[\"From\"] = sender_email\n",
    "# message[\"To\"] = \"Dear\"\n",
    "message[\"Subject\"] = subject\n",
    "\n",
    "try:\n",
    "    with smtplib.SMTP_SSL(smtp_server, port) as server:\n",
    "        server.login(email_user, email_password)\n",
    "        server.sendmail(sender_email, receiver_email, message.as_string())\n",
    "        print(\"邮件发送成功！\")\n",
    "except Exception as e:\n",
    "    print(e)\n"
   ]
  },
  {
   "cell_type": "code",
   "execution_count": 2,
   "id": "e98a8158-e93f-4856-a134-242cfee04814",
   "metadata": {},
   "outputs": [
    {
     "ename": "SMTPRecipientsRefused",
     "evalue": "{'axpzhang@gmail.com,116586276@qq.com': (501, b'Bad address syntax. http://service.mail.qq.com/cgi-bin/help?subtype=1&&id=20022&&no=1000730')}",
     "output_type": "error",
     "traceback": [
      "\u001b[0;31m---------------------------------------------------------------------------\u001b[0m",
      "\u001b[0;31mSMTPRecipientsRefused\u001b[0m                     Traceback (most recent call last)",
      "Cell \u001b[0;32mIn[2], line 4\u001b[0m\n\u001b[1;32m      2\u001b[0m ins \u001b[38;5;241m=\u001b[39m smtplib\u001b[38;5;241m.\u001b[39mSMTP_SSL(smtp_server, port)\n\u001b[1;32m      3\u001b[0m ins\u001b[38;5;241m.\u001b[39mlogin(email_user, email_password)\n\u001b[0;32m----> 4\u001b[0m \u001b[43mins\u001b[49m\u001b[38;5;241;43m.\u001b[39;49m\u001b[43msendmail\u001b[49m\u001b[43m(\u001b[49m\u001b[43msender_email\u001b[49m\u001b[43m,\u001b[49m\u001b[43m \u001b[49m\u001b[43mreceiver_email\u001b[49m\u001b[43m,\u001b[49m\u001b[43m \u001b[49m\u001b[43mmessage\u001b[49m\u001b[38;5;241;43m.\u001b[39;49m\u001b[43mas_string\u001b[49m\u001b[43m(\u001b[49m\u001b[43m)\u001b[49m\u001b[43m)\u001b[49m\n\u001b[1;32m      5\u001b[0m \u001b[38;5;28mprint\u001b[39m(\u001b[38;5;124m\"\u001b[39m\u001b[38;5;124m邮件发送成功！\u001b[39m\u001b[38;5;124m\"\u001b[39m)\n",
      "File \u001b[0;32m/usr/local/Cellar/python@3.12/3.12.6/Frameworks/Python.framework/Versions/3.12/lib/python3.12/smtplib.py:890\u001b[0m, in \u001b[0;36mSMTP.sendmail\u001b[0;34m(self, from_addr, to_addrs, msg, mail_options, rcpt_options)\u001b[0m\n\u001b[1;32m    887\u001b[0m \u001b[38;5;28;01mif\u001b[39;00m \u001b[38;5;28mlen\u001b[39m(senderrs) \u001b[38;5;241m==\u001b[39m \u001b[38;5;28mlen\u001b[39m(to_addrs):\n\u001b[1;32m    888\u001b[0m     \u001b[38;5;66;03m# the server refused all our recipients\u001b[39;00m\n\u001b[1;32m    889\u001b[0m     \u001b[38;5;28mself\u001b[39m\u001b[38;5;241m.\u001b[39m_rset()\n\u001b[0;32m--> 890\u001b[0m     \u001b[38;5;28;01mraise\u001b[39;00m SMTPRecipientsRefused(senderrs)\n\u001b[1;32m    891\u001b[0m (code, resp) \u001b[38;5;241m=\u001b[39m \u001b[38;5;28mself\u001b[39m\u001b[38;5;241m.\u001b[39mdata(msg)\n\u001b[1;32m    892\u001b[0m \u001b[38;5;28;01mif\u001b[39;00m code \u001b[38;5;241m!=\u001b[39m \u001b[38;5;241m250\u001b[39m:\n",
      "\u001b[0;31mSMTPRecipientsRefused\u001b[0m: {'axpzhang@gmail.com,116586276@qq.com': (501, b'Bad address syntax. http://service.mail.qq.com/cgi-bin/help?subtype=1&&id=20022&&no=1000730')}"
     ]
    }
   ],
   "source": [
    "receiver_email = [\"axpzhang@gmail.com\", \"116586276@qq.com\"]\n",
    "ins = smtplib.SMTP_SSL(smtp_server, port)\n",
    "ins.login(email_user, email_password)\n",
    "ins.sendmail(sender_email, receiver_email, message.as_string())\n",
    "print(\"邮件发送成功！\")"
   ]
  },
  {
   "cell_type": "code",
   "execution_count": 15,
   "id": "b2de9b85-2136-46c4-8b62-7ec2b0056836",
   "metadata": {},
   "outputs": [
    {
     "name": "stdout",
     "output_type": "stream",
     "text": [
      "邮件发送成功！\n"
     ]
    }
   ],
   "source": [
    "receiver_email = \"axp.zhang@qq.com\"\n",
    "ins = smtplib.SMTP_SSL(smtp_server, port)\n",
    "ins.login(email_user, email_password)\n",
    "ins.sendmail(sender_email, receiver_email, message.as_string())\n",
    "print(\"邮件发送成功！\")"
   ]
  },
  {
   "cell_type": "code",
   "execution_count": 11,
   "id": "418ef268-af05-41ae-bbad-a850b8690437",
   "metadata": {},
   "outputs": [
    {
     "name": "stdout",
     "output_type": "stream",
     "text": [
      "邮件发送成功！\n",
      "(-1, b'\\x00\\x00\\x00')\n"
     ]
    }
   ],
   "source": [
    "try:\n",
    "    with smtplib.SMTP_SSL(smtp_server, port) as server:\n",
    "        server.login(email_user, email_password)\n",
    "        server.sendmail(sender_email, receiver_email, message.as_string())\n",
    "        print(\"邮件发送成功！\")\n",
    "except Exception as e:\n",
    "    print(e)"
   ]
  },
  {
   "cell_type": "code",
   "execution_count": null,
   "id": "dd6be99b-0d5e-4c1f-ac35-1ea5b4d65a2e",
   "metadata": {},
   "outputs": [],
   "source": []
  }
 ],
 "metadata": {
  "kernelspec": {
   "display_name": "Python 3 (ipykernel)",
   "language": "python",
   "name": "python3"
  },
  "language_info": {
   "codemirror_mode": {
    "name": "ipython",
    "version": 3
   },
   "file_extension": ".py",
   "mimetype": "text/x-python",
   "name": "python",
   "nbconvert_exporter": "python",
   "pygments_lexer": "ipython3",
   "version": "3.12.6"
  }
 },
 "nbformat": 4,
 "nbformat_minor": 5
}
